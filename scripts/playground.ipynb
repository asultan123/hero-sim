{
 "cells": [
  {
   "cell_type": "code",
   "execution_count": 230,
   "metadata": {},
   "outputs": [],
   "source": [
    "import pandas as pd\n",
    "import seaborn as se\n",
    "import pickle\n",
    "from collections import Counter\n",
    "import numpy as np\n",
    "import os\n",
    "import torch\n",
    "import pickle\n",
    "import timm\n",
    "from ModelAnalysis import load_model_from_timm, load_default_input_tensor_for_model\n",
    "import torch\n",
    "import torchvision.models as models\n",
    "from torch.profiler import profile, record_function, ProfilerActivity, schedule\n",
    "from torch.autograd.profiler_util import FunctionEventAvg\n",
    "from tqdm.autonotebook import tqdm as notebook_tqdm\n",
    "from timeit import timeit\n",
    "import torchvision\n",
    "import json\n",
    "from timeit import default_timer as timer\n",
    "from pathlib import Path\n",
    "import shutil\n",
    "import math"
   ]
  },
  {
   "cell_type": "code",
   "execution_count": 239,
   "metadata": {},
   "outputs": [],
   "source": [
    "# def calculate_speedup(model_name, clk_freq):\n",
    "model_name = 'beit_base_patch16_224'\n",
    "result_df = pd.read_csv('../data/timm.csv')\n",
    "model = result_df.query(f'model_name == \\'{model_name}\\'')\n",
    "profile_df = pd.read_csv(f'../data/profiling/{model_name}.csv', index_col=0)"
   ]
  },
  {
   "cell_type": "code",
   "execution_count": 261,
   "metadata": {},
   "outputs": [
    {
     "ename": "SyntaxError",
     "evalue": "invalid syntax (1157718237.py, line 20)",
     "output_type": "error",
     "traceback": [
      "\u001b[0;36m  Input \u001b[0;32mIn [261]\u001b[0;36m\u001b[0m\n\u001b[0;31m    cpu_dur_ns =\u001b[0m\n\u001b[0m                 ^\u001b[0m\n\u001b[0;31mSyntaxError\u001b[0m\u001b[0;31m:\u001b[0m invalid syntax\n"
     ]
    }
   ],
   "source": [
    "cpu_profiling_basepath = Path('../data/profiling')\n",
    "arch_results_basepath = Path('../data/arch_results')\n",
    "\n",
    "min_speedup = math.inf\n",
    "max_speedup = -math.inf\n",
    "\n",
    "avg_model_speedup = {}\n",
    "avg_compute_of_supported_layers = []\n",
    "for model_name in notebook_tqdm(os.listdir(arch_results_basepath)):\n",
    "    model_path = os.path.join(arch_results_basepath, model_name)\n",
    "    profile_path = os.path.join(cpu_profiling_basepath, model_name)\n",
    "    arch_metrics = pd.read_csv(model_path, index_col=0)\n",
    "    cpu_profile_results = pd.read_csv(profile_path, index_col = False).iloc[:, 1:]\n",
    "    cpu_profile_results = cpu_profile_results.set_index('Layer Name')\n",
    "    layers_simulated = arch_metrics.to_dict('index')\n",
    "    layer_speedup = []\n",
    "    avg_model_speedup[model_name] = {}\n",
    "    cpu_runtime = 0\n",
    "    for layer in layers_simulated.keys():\n",
    "        cpu_dur_ns = cpu_profile_results.loc[layer, 'Duration']*10**3\n",
    "        arch_dur_ns = arch_metrics.loc[layer, 'latency']\n",
    "        speedup = cpu_dur_ns / arch_dur_ns\n",
    "        cpu_runtime += cpu_dur_ns\n",
    "        avg_model_speedup[model_name][layer] = speedup\n",
    "        if speedup < min_speedup:\n",
    "            min_speedup = speedup\n",
    "            slowest_layer = (model_name, layer)\n",
    "        if speedup > max_speedup:\n",
    "            max_speedup = speedup\n",
    "            fastest_layer = (model_name, layer)\n",
    "    percent_of_compute = cpu_runtime / "
   ]
  },
  {
   "cell_type": "code",
   "execution_count": null,
   "metadata": {},
   "outputs": [],
   "source": [
    "avg_compute_of_supported_layers = np.average()"
   ]
  },
  {
   "cell_type": "code",
   "execution_count": 245,
   "metadata": {},
   "outputs": [],
   "source": [
    "res = []\n",
    "for _, layer_speedup_list in avg_model_speedup.items():\n",
    "    res.append(list(layer_speedup_list.values()))"
   ]
  },
  {
   "cell_type": "code",
   "execution_count": 260,
   "metadata": {},
   "outputs": [
    {
     "data": {
      "text/plain": [
       "4.819957693804431"
      ]
     },
     "execution_count": 260,
     "metadata": {},
     "output_type": "execute_result"
    }
   ],
   "source": [
    "speedup_list = []\n",
    "for _, layer_speedup_list in avg_model_speedup.items():\n",
    "    speedup_list.extend(layer_speedup_list.values())\n",
    "\n",
    "median_layer_speedup = np.quantile(speedup_list, q = 0.5)\n",
    "median_layer_speedup"
   ]
  },
  {
   "cell_type": "code",
   "execution_count": 253,
   "metadata": {},
   "outputs": [
    {
     "data": {
      "text/plain": [
       "14.990034070960567"
      ]
     },
     "execution_count": 253,
     "metadata": {},
     "output_type": "execute_result"
    }
   ],
   "source": [
    "median_model_speedup = np.quantile([np.average(list(layer_speedup_list.values())) for _, layer_speedup_list in avg_model_speedup.items()], q = 0.5)\n",
    "median_model_speedup"
   ]
  },
  {
   "cell_type": "code",
   "execution_count": 241,
   "metadata": {},
   "outputs": [
    {
     "ename": "TypeError",
     "evalue": "unsupported operand type(s) for -: 'dict' and 'dict'",
     "output_type": "error",
     "traceback": [
      "\u001b[0;31m---------------------------------------------------------------------------\u001b[0m",
      "\u001b[0;31mTypeError\u001b[0m                                 Traceback (most recent call last)",
      "\u001b[1;32m/home/sultan_dev/hero-sim/scripts/playground.ipynb Cell 4'\u001b[0m in \u001b[0;36m<cell line: 1>\u001b[0;34m()\u001b[0m\n\u001b[0;32m----> <a href='vscode-notebook-cell://ssh-remote%2Bworkstation-cpp_dev/home/sultan_dev/hero-sim/scripts/playground.ipynb#ch0000038vscode-remote?line=0'>1</a>\u001b[0m np\u001b[39m.\u001b[39;49mquantile(avg_model_speedup, q\u001b[39m=\u001b[39;49m\u001b[39m0.5\u001b[39;49m)\n",
      "File \u001b[0;32m<__array_function__ internals>:180\u001b[0m, in \u001b[0;36mquantile\u001b[0;34m(*args, **kwargs)\u001b[0m\n",
      "File \u001b[0;32m~/.pyenv/versions/3.9.5/envs/hero-sim-backend/lib/python3.9/site-packages/numpy/lib/function_base.py:4371\u001b[0m, in \u001b[0;36mquantile\u001b[0;34m(a, q, axis, out, overwrite_input, method, keepdims, interpolation)\u001b[0m\n\u001b[1;32m   <a href='file:///home/sultan_dev/.pyenv/versions/3.9.5/envs/hero-sim-backend/lib/python3.9/site-packages/numpy/lib/function_base.py?line=4368'>4369</a>\u001b[0m \u001b[39mif\u001b[39;00m \u001b[39mnot\u001b[39;00m _quantile_is_valid(q):\n\u001b[1;32m   <a href='file:///home/sultan_dev/.pyenv/versions/3.9.5/envs/hero-sim-backend/lib/python3.9/site-packages/numpy/lib/function_base.py?line=4369'>4370</a>\u001b[0m     \u001b[39mraise\u001b[39;00m \u001b[39mValueError\u001b[39;00m(\u001b[39m\"\u001b[39m\u001b[39mQuantiles must be in the range [0, 1]\u001b[39m\u001b[39m\"\u001b[39m)\n\u001b[0;32m-> <a href='file:///home/sultan_dev/.pyenv/versions/3.9.5/envs/hero-sim-backend/lib/python3.9/site-packages/numpy/lib/function_base.py?line=4370'>4371</a>\u001b[0m \u001b[39mreturn\u001b[39;00m _quantile_unchecked(\n\u001b[1;32m   <a href='file:///home/sultan_dev/.pyenv/versions/3.9.5/envs/hero-sim-backend/lib/python3.9/site-packages/numpy/lib/function_base.py?line=4371'>4372</a>\u001b[0m     a, q, axis, out, overwrite_input, method, keepdims)\n",
      "File \u001b[0;32m~/.pyenv/versions/3.9.5/envs/hero-sim-backend/lib/python3.9/site-packages/numpy/lib/function_base.py:4383\u001b[0m, in \u001b[0;36m_quantile_unchecked\u001b[0;34m(a, q, axis, out, overwrite_input, method, keepdims)\u001b[0m\n\u001b[1;32m   <a href='file:///home/sultan_dev/.pyenv/versions/3.9.5/envs/hero-sim-backend/lib/python3.9/site-packages/numpy/lib/function_base.py?line=4374'>4375</a>\u001b[0m \u001b[39mdef\u001b[39;00m \u001b[39m_quantile_unchecked\u001b[39m(a,\n\u001b[1;32m   <a href='file:///home/sultan_dev/.pyenv/versions/3.9.5/envs/hero-sim-backend/lib/python3.9/site-packages/numpy/lib/function_base.py?line=4375'>4376</a>\u001b[0m                         q,\n\u001b[1;32m   <a href='file:///home/sultan_dev/.pyenv/versions/3.9.5/envs/hero-sim-backend/lib/python3.9/site-packages/numpy/lib/function_base.py?line=4376'>4377</a>\u001b[0m                         axis\u001b[39m=\u001b[39m\u001b[39mNone\u001b[39;00m,\n\u001b[0;32m   (...)\u001b[0m\n\u001b[1;32m   <a href='file:///home/sultan_dev/.pyenv/versions/3.9.5/envs/hero-sim-backend/lib/python3.9/site-packages/numpy/lib/function_base.py?line=4379'>4380</a>\u001b[0m                         method\u001b[39m=\u001b[39m\u001b[39m\"\u001b[39m\u001b[39mlinear\u001b[39m\u001b[39m\"\u001b[39m,\n\u001b[1;32m   <a href='file:///home/sultan_dev/.pyenv/versions/3.9.5/envs/hero-sim-backend/lib/python3.9/site-packages/numpy/lib/function_base.py?line=4380'>4381</a>\u001b[0m                         keepdims\u001b[39m=\u001b[39m\u001b[39mFalse\u001b[39;00m):\n\u001b[1;32m   <a href='file:///home/sultan_dev/.pyenv/versions/3.9.5/envs/hero-sim-backend/lib/python3.9/site-packages/numpy/lib/function_base.py?line=4381'>4382</a>\u001b[0m     \u001b[39m\"\"\"Assumes that q is in [0, 1], and is an ndarray\"\"\"\u001b[39;00m\n\u001b[0;32m-> <a href='file:///home/sultan_dev/.pyenv/versions/3.9.5/envs/hero-sim-backend/lib/python3.9/site-packages/numpy/lib/function_base.py?line=4382'>4383</a>\u001b[0m     r, k \u001b[39m=\u001b[39m _ureduce(a,\n\u001b[1;32m   <a href='file:///home/sultan_dev/.pyenv/versions/3.9.5/envs/hero-sim-backend/lib/python3.9/site-packages/numpy/lib/function_base.py?line=4383'>4384</a>\u001b[0m                     func\u001b[39m=\u001b[39;49m_quantile_ureduce_func,\n\u001b[1;32m   <a href='file:///home/sultan_dev/.pyenv/versions/3.9.5/envs/hero-sim-backend/lib/python3.9/site-packages/numpy/lib/function_base.py?line=4384'>4385</a>\u001b[0m                     q\u001b[39m=\u001b[39;49mq,\n\u001b[1;32m   <a href='file:///home/sultan_dev/.pyenv/versions/3.9.5/envs/hero-sim-backend/lib/python3.9/site-packages/numpy/lib/function_base.py?line=4385'>4386</a>\u001b[0m                     axis\u001b[39m=\u001b[39;49maxis,\n\u001b[1;32m   <a href='file:///home/sultan_dev/.pyenv/versions/3.9.5/envs/hero-sim-backend/lib/python3.9/site-packages/numpy/lib/function_base.py?line=4386'>4387</a>\u001b[0m                     out\u001b[39m=\u001b[39;49mout,\n\u001b[1;32m   <a href='file:///home/sultan_dev/.pyenv/versions/3.9.5/envs/hero-sim-backend/lib/python3.9/site-packages/numpy/lib/function_base.py?line=4387'>4388</a>\u001b[0m                     overwrite_input\u001b[39m=\u001b[39;49moverwrite_input,\n\u001b[1;32m   <a href='file:///home/sultan_dev/.pyenv/versions/3.9.5/envs/hero-sim-backend/lib/python3.9/site-packages/numpy/lib/function_base.py?line=4388'>4389</a>\u001b[0m                     method\u001b[39m=\u001b[39;49mmethod)\n\u001b[1;32m   <a href='file:///home/sultan_dev/.pyenv/versions/3.9.5/envs/hero-sim-backend/lib/python3.9/site-packages/numpy/lib/function_base.py?line=4389'>4390</a>\u001b[0m     \u001b[39mif\u001b[39;00m keepdims:\n\u001b[1;32m   <a href='file:///home/sultan_dev/.pyenv/versions/3.9.5/envs/hero-sim-backend/lib/python3.9/site-packages/numpy/lib/function_base.py?line=4390'>4391</a>\u001b[0m         \u001b[39mreturn\u001b[39;00m r\u001b[39m.\u001b[39mreshape(q\u001b[39m.\u001b[39mshape \u001b[39m+\u001b[39m k)\n",
      "File \u001b[0;32m~/.pyenv/versions/3.9.5/envs/hero-sim-backend/lib/python3.9/site-packages/numpy/lib/function_base.py:3702\u001b[0m, in \u001b[0;36m_ureduce\u001b[0;34m(a, func, **kwargs)\u001b[0m\n\u001b[1;32m   <a href='file:///home/sultan_dev/.pyenv/versions/3.9.5/envs/hero-sim-backend/lib/python3.9/site-packages/numpy/lib/function_base.py?line=3698'>3699</a>\u001b[0m \u001b[39melse\u001b[39;00m:\n\u001b[1;32m   <a href='file:///home/sultan_dev/.pyenv/versions/3.9.5/envs/hero-sim-backend/lib/python3.9/site-packages/numpy/lib/function_base.py?line=3699'>3700</a>\u001b[0m     keepdim \u001b[39m=\u001b[39m (\u001b[39m1\u001b[39m,) \u001b[39m*\u001b[39m a\u001b[39m.\u001b[39mndim\n\u001b[0;32m-> <a href='file:///home/sultan_dev/.pyenv/versions/3.9.5/envs/hero-sim-backend/lib/python3.9/site-packages/numpy/lib/function_base.py?line=3701'>3702</a>\u001b[0m r \u001b[39m=\u001b[39m func(a, \u001b[39m*\u001b[39;49m\u001b[39m*\u001b[39;49mkwargs)\n\u001b[1;32m   <a href='file:///home/sultan_dev/.pyenv/versions/3.9.5/envs/hero-sim-backend/lib/python3.9/site-packages/numpy/lib/function_base.py?line=3702'>3703</a>\u001b[0m \u001b[39mreturn\u001b[39;00m r, keepdim\n",
      "File \u001b[0;32m~/.pyenv/versions/3.9.5/envs/hero-sim-backend/lib/python3.9/site-packages/numpy/lib/function_base.py:4552\u001b[0m, in \u001b[0;36m_quantile_ureduce_func\u001b[0;34m(a, q, axis, out, overwrite_input, method)\u001b[0m\n\u001b[1;32m   <a href='file:///home/sultan_dev/.pyenv/versions/3.9.5/envs/hero-sim-backend/lib/python3.9/site-packages/numpy/lib/function_base.py?line=4549'>4550</a>\u001b[0m     \u001b[39melse\u001b[39;00m:\n\u001b[1;32m   <a href='file:///home/sultan_dev/.pyenv/versions/3.9.5/envs/hero-sim-backend/lib/python3.9/site-packages/numpy/lib/function_base.py?line=4550'>4551</a>\u001b[0m         arr \u001b[39m=\u001b[39m a\u001b[39m.\u001b[39mcopy()\n\u001b[0;32m-> <a href='file:///home/sultan_dev/.pyenv/versions/3.9.5/envs/hero-sim-backend/lib/python3.9/site-packages/numpy/lib/function_base.py?line=4551'>4552</a>\u001b[0m result \u001b[39m=\u001b[39m _quantile(arr,\n\u001b[1;32m   <a href='file:///home/sultan_dev/.pyenv/versions/3.9.5/envs/hero-sim-backend/lib/python3.9/site-packages/numpy/lib/function_base.py?line=4552'>4553</a>\u001b[0m                    quantiles\u001b[39m=\u001b[39;49mq,\n\u001b[1;32m   <a href='file:///home/sultan_dev/.pyenv/versions/3.9.5/envs/hero-sim-backend/lib/python3.9/site-packages/numpy/lib/function_base.py?line=4553'>4554</a>\u001b[0m                    axis\u001b[39m=\u001b[39;49maxis,\n\u001b[1;32m   <a href='file:///home/sultan_dev/.pyenv/versions/3.9.5/envs/hero-sim-backend/lib/python3.9/site-packages/numpy/lib/function_base.py?line=4554'>4555</a>\u001b[0m                    method\u001b[39m=\u001b[39;49mmethod,\n\u001b[1;32m   <a href='file:///home/sultan_dev/.pyenv/versions/3.9.5/envs/hero-sim-backend/lib/python3.9/site-packages/numpy/lib/function_base.py?line=4555'>4556</a>\u001b[0m                    out\u001b[39m=\u001b[39;49mout)\n\u001b[1;32m   <a href='file:///home/sultan_dev/.pyenv/versions/3.9.5/envs/hero-sim-backend/lib/python3.9/site-packages/numpy/lib/function_base.py?line=4556'>4557</a>\u001b[0m \u001b[39mreturn\u001b[39;00m result\n",
      "File \u001b[0;32m~/.pyenv/versions/3.9.5/envs/hero-sim-backend/lib/python3.9/site-packages/numpy/lib/function_base.py:4669\u001b[0m, in \u001b[0;36m_quantile\u001b[0;34m(arr, quantiles, axis, method, out)\u001b[0m\n\u001b[1;32m   <a href='file:///home/sultan_dev/.pyenv/versions/3.9.5/envs/hero-sim-backend/lib/python3.9/site-packages/numpy/lib/function_base.py?line=4666'>4667</a>\u001b[0m     result_shape \u001b[39m=\u001b[39m virtual_indexes\u001b[39m.\u001b[39mshape \u001b[39m+\u001b[39m (\u001b[39m1\u001b[39m,) \u001b[39m*\u001b[39m (arr\u001b[39m.\u001b[39mndim \u001b[39m-\u001b[39m \u001b[39m1\u001b[39m)\n\u001b[1;32m   <a href='file:///home/sultan_dev/.pyenv/versions/3.9.5/envs/hero-sim-backend/lib/python3.9/site-packages/numpy/lib/function_base.py?line=4667'>4668</a>\u001b[0m     gamma \u001b[39m=\u001b[39m gamma\u001b[39m.\u001b[39mreshape(result_shape)\n\u001b[0;32m-> <a href='file:///home/sultan_dev/.pyenv/versions/3.9.5/envs/hero-sim-backend/lib/python3.9/site-packages/numpy/lib/function_base.py?line=4668'>4669</a>\u001b[0m     result \u001b[39m=\u001b[39m _lerp(previous,\n\u001b[1;32m   <a href='file:///home/sultan_dev/.pyenv/versions/3.9.5/envs/hero-sim-backend/lib/python3.9/site-packages/numpy/lib/function_base.py?line=4669'>4670</a>\u001b[0m                    \u001b[39mnext\u001b[39;49m,\n\u001b[1;32m   <a href='file:///home/sultan_dev/.pyenv/versions/3.9.5/envs/hero-sim-backend/lib/python3.9/site-packages/numpy/lib/function_base.py?line=4670'>4671</a>\u001b[0m                    gamma,\n\u001b[1;32m   <a href='file:///home/sultan_dev/.pyenv/versions/3.9.5/envs/hero-sim-backend/lib/python3.9/site-packages/numpy/lib/function_base.py?line=4671'>4672</a>\u001b[0m                    out\u001b[39m=\u001b[39;49mout)\n\u001b[1;32m   <a href='file:///home/sultan_dev/.pyenv/versions/3.9.5/envs/hero-sim-backend/lib/python3.9/site-packages/numpy/lib/function_base.py?line=4672'>4673</a>\u001b[0m \u001b[39mif\u001b[39;00m np\u001b[39m.\u001b[39many(slices_having_nans):\n\u001b[1;32m   <a href='file:///home/sultan_dev/.pyenv/versions/3.9.5/envs/hero-sim-backend/lib/python3.9/site-packages/numpy/lib/function_base.py?line=4673'>4674</a>\u001b[0m     \u001b[39mif\u001b[39;00m result\u001b[39m.\u001b[39mndim \u001b[39m==\u001b[39m \u001b[39m0\u001b[39m \u001b[39mand\u001b[39;00m out \u001b[39mis\u001b[39;00m \u001b[39mNone\u001b[39;00m:\n\u001b[1;32m   <a href='file:///home/sultan_dev/.pyenv/versions/3.9.5/envs/hero-sim-backend/lib/python3.9/site-packages/numpy/lib/function_base.py?line=4674'>4675</a>\u001b[0m         \u001b[39m# can't write to a scalar\u001b[39;00m\n",
      "File \u001b[0;32m~/.pyenv/versions/3.9.5/envs/hero-sim-backend/lib/python3.9/site-packages/numpy/lib/function_base.py:4486\u001b[0m, in \u001b[0;36m_lerp\u001b[0;34m(a, b, t, out)\u001b[0m\n\u001b[1;32m   <a href='file:///home/sultan_dev/.pyenv/versions/3.9.5/envs/hero-sim-backend/lib/python3.9/site-packages/numpy/lib/function_base.py?line=4471'>4472</a>\u001b[0m \u001b[39mdef\u001b[39;00m \u001b[39m_lerp\u001b[39m(a, b, t, out\u001b[39m=\u001b[39m\u001b[39mNone\u001b[39;00m):\n\u001b[1;32m   <a href='file:///home/sultan_dev/.pyenv/versions/3.9.5/envs/hero-sim-backend/lib/python3.9/site-packages/numpy/lib/function_base.py?line=4472'>4473</a>\u001b[0m     \u001b[39m\"\"\"\u001b[39;00m\n\u001b[1;32m   <a href='file:///home/sultan_dev/.pyenv/versions/3.9.5/envs/hero-sim-backend/lib/python3.9/site-packages/numpy/lib/function_base.py?line=4473'>4474</a>\u001b[0m \u001b[39m    Compute the linear interpolation weighted by gamma on each point of\u001b[39;00m\n\u001b[1;32m   <a href='file:///home/sultan_dev/.pyenv/versions/3.9.5/envs/hero-sim-backend/lib/python3.9/site-packages/numpy/lib/function_base.py?line=4474'>4475</a>\u001b[0m \u001b[39m    two same shape array.\u001b[39;00m\n\u001b[0;32m   (...)\u001b[0m\n\u001b[1;32m   <a href='file:///home/sultan_dev/.pyenv/versions/3.9.5/envs/hero-sim-backend/lib/python3.9/site-packages/numpy/lib/function_base.py?line=4483'>4484</a>\u001b[0m \u001b[39m        Output array.\u001b[39;00m\n\u001b[1;32m   <a href='file:///home/sultan_dev/.pyenv/versions/3.9.5/envs/hero-sim-backend/lib/python3.9/site-packages/numpy/lib/function_base.py?line=4484'>4485</a>\u001b[0m \u001b[39m    \"\"\"\u001b[39;00m\n\u001b[0;32m-> <a href='file:///home/sultan_dev/.pyenv/versions/3.9.5/envs/hero-sim-backend/lib/python3.9/site-packages/numpy/lib/function_base.py?line=4485'>4486</a>\u001b[0m     diff_b_a \u001b[39m=\u001b[39m subtract(b, a)\n\u001b[1;32m   <a href='file:///home/sultan_dev/.pyenv/versions/3.9.5/envs/hero-sim-backend/lib/python3.9/site-packages/numpy/lib/function_base.py?line=4486'>4487</a>\u001b[0m     \u001b[39m# asanyarray is a stop-gap until gh-13105\u001b[39;00m\n\u001b[1;32m   <a href='file:///home/sultan_dev/.pyenv/versions/3.9.5/envs/hero-sim-backend/lib/python3.9/site-packages/numpy/lib/function_base.py?line=4487'>4488</a>\u001b[0m     lerp_interpolation \u001b[39m=\u001b[39m asanyarray(add(a, diff_b_a \u001b[39m*\u001b[39m t, out\u001b[39m=\u001b[39mout))\n",
      "\u001b[0;31mTypeError\u001b[0m: unsupported operand type(s) for -: 'dict' and 'dict'"
     ]
    }
   ],
   "source": [
    "np.quantile(avg_model_speedup, q=0.5)"
   ]
  },
  {
   "cell_type": "code",
   "execution_count": 223,
   "metadata": {},
   "outputs": [
    {
     "name": "stderr",
     "output_type": "stream",
     "text": [
      "/home/sultan_dev/.pyenv/versions/3.9.5/envs/hero-sim-backend/lib/python3.9/site-packages/seaborn/distributions.py:2619: FutureWarning: `distplot` is a deprecated function and will be removed in a future version. Please adapt your code to use either `displot` (a figure-level function with similar flexibility) or `histplot` (an axes-level function for histograms).\n",
      "  warnings.warn(msg, FutureWarning)\n"
     ]
    },
    {
     "data": {
      "text/plain": [
       "(-10.0, 5000.0)"
      ]
     },
     "execution_count": 223,
     "metadata": {},
     "output_type": "execute_result"
    },
    {
     "data": {
      "image/png": "[encoded data removed]",
      "text/plain": [
       "<Figure size 432x288 with 1 Axes>"
      ]
     },
     "metadata": {
      "needs_background": "light"
     },
     "output_type": "display_data"
    }
   ],
   "source": [
    "plt = se.distplot(x = avg_model_speedup)\n",
    "plt.set_xlim(-10, 5000)"
   ]
  },
  {
   "cell_type": "code",
   "execution_count": 181,
   "metadata": {},
   "outputs": [],
   "source": [
    "model_layer_names_without_decomposition = set()\n",
    "for name in model[\"layer_name\"].to_list():\n",
    "    name_without_decomposition_indicators = r\".\".join(name.split(\".\")[:-2])\n",
    "    model_layer_names_without_decomposition.add(name_without_decomposition_indicators)\n",
    "model_layer_names_without_decomposition = list(model_layer_names_without_decomposition)"
   ]
  },
  {
   "cell_type": "code",
   "execution_count": 10,
   "metadata": {},
   "outputs": [
    {
     "data": {
      "text/plain": [
       "695"
      ]
     },
     "execution_count": 10,
     "metadata": {},
     "output_type": "execute_result"
    }
   ],
   "source": [
    "for evaluated_model in set(result_df['model_name'].to_list()):\n",
    "    acc_results_df = result_df.query(f'model_name == \\'{evaluated_model}\\'')\n",
    "    profile_df = pd.read_csv(f'../data/profiling/{evaluated_model}.csv')\n",
    "    "
   ]
  },
  {
   "cell_type": "code",
   "execution_count": 24,
   "metadata": {},
   "outputs": [],
   "source": [
    "def calculate_bw(model_name, clk_freq):\n",
    "    model = result_df.query(f'model_name == \\'{model_name}\\'')\n",
    "    load_bw = model['dram_load'] / model['latency'] * clk_freq\n",
    "    store_bw = model['dram_store'] / model['latency'] * clk_freq\n",
    "    return load_bw, store_bw"
   ]
  },
  {
   "cell_type": "code",
   "execution_count": 98,
   "metadata": {},
   "outputs": [],
   "source": [
    "def calculate_latency(model_name, clk_freq):\n",
    "    model = result_df.query(f'model_name == \\'{model_name}\\'')\n",
    "    latency = np.sum(model['latency'])\n",
    "    return latency * 1 / clk_freq *10**6\n",
    "def estimate_fps(model_name, clk_freq):\n",
    "    latency_in_seconds = calculate_latency(model_name, clk_freq)\n",
    "    return 1/latency_in_seconds"
   ]
  },
  {
   "cell_type": "code",
   "execution_count": 99,
   "metadata": {},
   "outputs": [
    {
     "data": {
      "text/plain": [
       "15870.309"
      ]
     },
     "execution_count": 99,
     "metadata": {},
     "output_type": "execute_result"
    }
   ],
   "source": [
    "calculate_latency('resnet50', clk)"
   ]
  },
  {
   "cell_type": "code",
   "execution_count": 28,
   "metadata": {},
   "outputs": [],
   "source": [
    "arch_max_consume_bw = 18 * clk / 2**30\n",
    "arch_max_produce_bw = 32 * 2 * clk / 2**30"
   ]
  },
  {
   "cell_type": "code",
   "execution_count": 52,
   "metadata": {},
   "outputs": [
    {
     "data": {
      "text/plain": [
       "<matplotlib.lines.Line2D at 0x7f0f99549580>"
      ]
     },
     "execution_count": 52,
     "metadata": {},
     "output_type": "execute_result"
    },
    {
     "data": {
      "image/png": "[encoded data removed]",
      "text/plain": [
       "<Figure size 432x288 with 1 Axes>"
      ]
     },
     "metadata": {
      "needs_background": "light"
     },
     "output_type": "display_data"
    }
   ],
   "source": [
    "load_bw, store_bw = calculate_bw('hrnet_w18_small', clk) \n",
    "load_bw, store_bw = load_bw/ 2**30, store_bw * 2/ 2**30 # assuming 2 bytes/ ofmap\n",
    "plt = se.histplot(data=pd.DataFrame({'load transfer rate in GB/s': load_bw}), x='load transfer rate in GB/s')\n",
    "plt.axvline(arch_max_consume_bw, color='r')"
   ]
  },
  {
   "cell_type": "code",
   "execution_count": 30,
   "metadata": {},
   "outputs": [
    {
     "data": {
      "text/plain": [
       "<matplotlib.lines.Line2D at 0x7f0edd285250>"
      ]
     },
     "execution_count": 30,
     "metadata": {},
     "output_type": "execute_result"
    },
    {
     "data": {
      "image/png": "[encoded data removed]",
      "text/plain": [
       "<Figure size 432x288 with 1 Axes>"
      ]
     },
     "metadata": {
      "needs_background": "light"
     },
     "output_type": "display_data"
    }
   ],
   "source": [
    "plt = se.histplot(data=pd.DataFrame({'store transfer rate in GB/s': store_bw}), x='store transfer rate in GB/s')\n",
    "plt.axvline(arch_max_produce_bw, color='r')"
   ]
  },
  {
   "cell_type": "code",
   "execution_count": 94,
   "metadata": {},
   "outputs": [
    {
     "data": {
      "text/plain": [
       "Counter({7: 1, 1: 37, 3: 16})"
      ]
     },
     "execution_count": 94,
     "metadata": {},
     "output_type": "execute_result"
    }
   ],
   "source": [
    "resnet50 = pickle.load(open(\"../data/processed_models/resnet50.model.pickle\", \"rb\"))\n",
    "kernel_sizes = Counter()\n",
    "for layer_name, layer in resnet50.items():\n",
    "    ifmap_dims, layer_obj = layer\n",
    "    try:\n",
    "        kernel_sizes.update({layer_obj.kernel_size[0]: 1})\n",
    "    except AttributeError as e:\n",
    "        kernel_sizes.update({1: 1})\n",
    "kernel_sizes"
   ]
  }
 ],
 "metadata": {
  "interpreter": {
   "hash": "79aa75b829aa58640321ac7dc75f40a1ae7e442a7fe77645a6da0c77f79c01c8"
  },
  "kernelspec": {
   "display_name": "Python 3.9.5 64-bit ('hero-sim-backend')",
   "language": "python",
   "name": "python3"
  },
  "language_info": {
   "codemirror_mode": {
    "name": "ipython",
    "version": 3
   },
   "file_extension": ".py",
   "mimetype": "text/x-python",
   "name": "python",
   "nbconvert_exporter": "python",
   "pygments_lexer": "ipython3",
   "version": "3.9.5"
  },
  "orig_nbformat": 4
 },
 "nbformat": 4,
 "nbformat_minor": 2
}
