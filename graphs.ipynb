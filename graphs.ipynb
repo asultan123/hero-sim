{
 "cells": [
  {
   "cell_type": "code",
   "execution_count": 1,
   "source": [
    "import pickle\n",
    "import csv"
   ],
   "outputs": [],
   "metadata": {}
  },
  {
   "cell_type": "code",
   "execution_count": 2,
   "source": [
    "with open(\"ifmap_sweep_dict.pickle\", \"rb\") as handle:\n",
    "    res_dict = pickle.load(handle)"
   ],
   "outputs": [],
   "metadata": {}
  },
  {
   "cell_type": "code",
   "execution_count": null,
   "source": [],
   "outputs": [],
   "metadata": {}
  },
  {
   "cell_type": "code",
   "execution_count": 3,
   "source": [
    "with open(\"ifmap_res_dict.csv\", \"w\") as csvfile:\n",
    "    writer = csv.writer(csvfile, dialect=\"excel-tab\")\n",
    "    header = [\n",
    "        \"iteration_count\",\n",
    "        \"ifmap_h\",\n",
    "        \"ifmap_w\",\n",
    "        \"k\",\n",
    "        \"c_in\",\n",
    "        \"f_out\",\n",
    "        \"filter_count\",\n",
    "        \"channel_count\",\n",
    "    ]\n",
    "    header.extend(\n",
    "        [\"valid\", \"dram\", \"weight\", \"psum\", \"ifmap\", \"pe_util\", \"latency\", \"sim_time\"]\n",
    "    )\n",
    "    writer.writerow(header)\n",
    "    for config, data in res_dict.items():\n",
    "        row = []\n",
    "        row.extend(config)\n",
    "        row.extend(data)\n",
    "        writer.writerow(row)\n"
   ],
   "outputs": [],
   "metadata": {}
  },
  {
   "cell_type": "code",
   "execution_count": null,
   "source": [],
   "outputs": [],
   "metadata": {}
  }
 ],
 "metadata": {
  "orig_nbformat": 4,
  "language_info": {
   "name": "python",
   "version": "3.9.5",
   "mimetype": "text/x-python",
   "codemirror_mode": {
    "name": "ipython",
    "version": 3
   },
   "pygments_lexer": "ipython3",
   "nbconvert_exporter": "python",
   "file_extension": ".py"
  },
  "kernelspec": {
   "name": "python3",
   "display_name": "Python 3.9.5 64-bit ('.venv': poetry)"
  },
  "interpreter": {
   "hash": "b3f5da2f42c9a6ee19d8bd12bcf078da5b9615109dd3b657d4085ab69d10f7c3"
  }
 },
 "nbformat": 4,
 "nbformat_minor": 2
}